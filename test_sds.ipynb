{
 "cells": [
  {
   "cell_type": "markdown",
   "id": "4d3177e7",
   "metadata": {},
   "source": [
    "# ТЕСТОВОЕ ЗАДАНИЕ"
   ]
  },
  {
   "cell_type": "markdown",
   "id": "4c0d4abb",
   "metadata": {
    "vscode": {
     "languageId": "plaintext"
    }
   },
   "source": [
    "### Подготовка к выполнению задач № 1-5"
   ]
  },
  {
   "cell_type": "markdown",
   "id": "f5654bf7",
   "metadata": {},
   "source": [
    "#### Для локальной разработки (тестирования), развернем БД используя docker compose. Также для администрирования БД, развернем adminer. \n",
    "```docker\n",
    "version: '3.7'\n",
    "\n",
    "services:\n",
    "\n",
    "  mysql:\n",
    "    container_name: mysql_container\n",
    "    image: mysql:8\n",
    "    restart: always\n",
    "        ports:\n",
    "      - \"3306:3306\"\n",
    "    environment:\n",
    "      MYSQL_ROOT_PASSWORD: mysql\n",
    "      MYSQL_DATABASE: mysql\n",
    "      MYSQL_USER: mysql\n",
    "      MYSQL_PASSWORD: mysql\n",
    "    volumes:\n",
    "      - ./dbdata:/var/lib/mysql/\n",
    "    networks:\n",
    "      - mysql_net\n",
    "\n",
    "  adminer:\n",
    "    container_name: adminer_container\n",
    "    image: adminer\n",
    "    depends_on:\n",
    "      - mysql\n",
    "    ports:\n",
    "      - \"10100:8080\"\n",
    "    networks:\n",
    "        - mysql_net\n",
    "\n",
    "networks:\n",
    "    mysql_net:\n",
    "        driver: bridge\n",
    "\n",
    "```\n"
   ]
  },
  {
   "cell_type": "markdown",
   "id": "a4a2eef6",
   "metadata": {
    "vscode": {
     "languageId": "plaintext"
    }
   },
   "source": [
    "#### Подключимся к mysql через adminer и создадим тестовую БД и заполним ее\n",
    "\n",
    "```sql\n",
    "create database if not exists dbo;\n",
    "\n",
    "--\n",
    "\n",
    "CREATE TABLE if not exists dbo.Categories (\n",
    "CategoryID int NOT NULL AUTO_INCREMENT,\n",
    "CategoryName nvarchar(255),\n",
    "CONSTRAINT PK_Categories PRIMARY KEY (CategoryID));\n",
    "\n",
    "--\n",
    "\n",
    "CREATE TABLE if not exists  dbo.Products (\n",
    "ProductID int NOT NULL AUTO_INCREMENT,\n",
    "ProductName nvarchar(255),\n",
    "CategoryID int,\n",
    "CONSTRAINT PK_Products PRIMARY KEY (ProductID),\n",
    "CONSTRAINT FK_Categories_On_Products FOREIGN KEY (CategoryID)\n",
    "REFERENCES dbo.Categories (CategoryID)\n",
    "ON DELETE NO ACTION ON UPDATE NO ACTION);\n",
    "\n",
    "--\n",
    "\n",
    "CREATE TABLE if not exists dbo.Partners(PartnerID int NOT NULL AUTO_INCREMENT, \n",
    "PartnerName nvarchar(255), Status nvarchar(50),\n",
    "CONSTRAINT PK_Partners PRIMARY KEY (PartnerID));\n",
    "\n",
    "--\n",
    "\n",
    "CREATE TABLE if not exists dbo.Orders (\n",
    "OrderID int NOT NULL AUTO_INCREMENT,\n",
    "OrderDate date,\n",
    "ProductID int,\n",
    "PartnerID int,\n",
    "Quantity int,\n",
    "Amount decimal(18,2),\n",
    "CONSTRAINT PK_Orders PRIMARY KEY (OrderID),\n",
    "CONSTRAINT FK_Products_On_Orders FOREIGN KEY (ProductID)\n",
    "REFERENCES dbo.Products (ProductID)\n",
    "ON DELETE NO ACTION ON UPDATE NO ACTION,\n",
    "CONSTRAINT FK_Partners_On_Orders FOREIGN KEY (PartnerID)\n",
    "REFERENCES dbo.Partners (PartnerID)\n",
    "ON DELETE NO ACTION ON UPDATE NO ACTION);\n",
    "\n",
    "--\n",
    "INSERT INTO dbo.Categories (CategoryName) VALUES\n",
    "('Бытовая техника'),\n",
    "('Мобильные устройства'),\n",
    "('Компьютеры');\n",
    "\n",
    "\n",
    "INSERT INTO dbo.Products (ProductName, CategoryID) VALUES\n",
    "('Холодильник', 1),\n",
    "('Стиральная машина', 1),\n",
    "('Смартфон', 2),\n",
    "('Планшет', 2),\n",
    "('Ноутбук', 3);\n",
    "\n",
    "\n",
    "INSERT INTO dbo.Partners (PartnerName, Status) VALUES\n",
    "('Партнер 1', 'Дистрибьютор'),\n",
    "('Партнер 2', 'Дилер'),\n",
    "('Партнер 3', 'Дилер');\n",
    "\n",
    "\n",
    "INSERT INTO dbo.Orders (OrderDate, ProductID, PartnerID, Quantity, Amount) VALUES\n",
    "('2023-01-10', 1, 1, 3, 60000.00),\n",
    "('2023-01-15', 2, 2, 2, 36000.00),\n",
    "('2023-02-05', 3, 3, 5, 40000.00),\n",
    "('2023-02-10', 4, 1, 1, 22000.00),\n",
    "('2023-03-12', 5, 2, 4, 200000.00),\n",
    "('2023-03-20', 1, 3, 1, 20000.00),\n",
    "('2023-04-01', 2, 1, 3, 54000.00),\n",
    "('2023-04-15', 3, 2, 7, 56000.00),\n",
    "('2023-05-05', 4, 3, 2, 44000.00),\n",
    "('2023-05-10', 5, 1, 3, 150000.00),\n",
    "('2023-06-12', 1, 2, 2, 40000.00),\n",
    "('2023-06-25', 2, 3, 4, 72000.00),\n",
    "('2023-07-05', 3, 1, 6, 48000.00),\n",
    "('2023-07-15', 4, 2, 3, 66000.00),\n",
    "('2023-08-01', 5, 3, 5, 250000.00);\n",
    "```"
   ]
  },
  {
   "cell_type": "markdown",
   "id": "dc840862",
   "metadata": {
    "vscode": {
     "languageId": "plaintext"
    }
   },
   "source": [
    "## SQL"
   ]
  },
  {
   "cell_type": "markdown",
   "id": "71082533",
   "metadata": {},
   "source": [
    "### Задача №  1 Напишите запрос для вычисления средней цены реализации за единицу в разрезе категорий в первом полугодии 2023 года."
   ]
  },
  {
   "cell_type": "markdown",
   "id": "8208654c",
   "metadata": {
    "vscode": {
     "languageId": "sql"
    }
   },
   "source": [
    "**Решение**\n",
    "\n",
    "```sql\n",
    "select\n",
    "    dbo.Categories.CategoryName as 'Название категории',\n",
    "    temp._mean as 'Средняя цена'\n",
    "    from (select \n",
    "            dbo.Products.CategoryID,\n",
    "            ROUND(sum(dbo.Orders.Amount) / sum(dbo.Orders.Quantity), 2) as _mean\n",
    "        from dbo.Orders\n",
    "        left join dbo.Products \n",
    "        on dbo.Orders.ProductID = dbo.Products.ProductID\n",
    "        where MONTH(dbo.Orders.OrderDate) < 7 and YEAR(dbo.Orders.OrderDate) = 2023\n",
    "        group by dbo.Products.CategoryID) as temp \n",
    "    left join dbo.Categories\n",
    "    on dbo.Categories.CategoryID = temp.CategoryID\n",
    "```"
   ]
  },
  {
   "cell_type": "markdown",
   "id": "1d522495",
   "metadata": {},
   "source": [
    "**Ответ**\n",
    "|      Название категории  |    Средняя цена   |\n",
    "|--------------------------|-------------------|\n",
    "|       Бытовая техника\t   |      18800.00     |\n",
    "|    Мобильные устройства  |      10800.00     |\n",
    "|         Компьютеры\t   |      50000.00     |"
   ]
  },
  {
   "cell_type": "markdown",
   "id": "7e6dd76e",
   "metadata": {
    "vscode": {
     "languageId": "sql"
    }
   },
   "source": [
    "### Задача №  2 Вывести товары, для которых цена реализации за весь период продаж ниже средней цены по всем товарам. Используйте WITH конструкцию."
   ]
  },
  {
   "cell_type": "markdown",
   "id": "6df04701",
   "metadata": {
    "vscode": {
     "languageId": "sql"
    }
   },
   "source": [
    "**Решение**\n",
    "\n",
    "```sql\n",
    "with amount_one as (\n",
    "    select \n",
    "        _max_price_date,\n",
    "        ProductName\n",
    "    from \n",
    "        (select round(max(_max_price_date),2) as _max_price_date, ProductID\n",
    "        from \n",
    "            (select max(dbo.Orders.Amount / dbo.Orders.Quantity) as _max_price_date,\n",
    "                    dbo.Orders.ProductID as ProductID\n",
    "                from dbo.Orders\n",
    "                group by dbo.Orders.ProductID, dbo.Orders.OrderDate) as temp\n",
    "        group by ProductID) as temp_2\n",
    "    left join dbo.Products \n",
    "    on temp_2.ProductID = dbo.Products.ProductID )\n",
    "\n",
    "select\n",
    "    ProductName as 'Название товара'\n",
    "from amount_one \n",
    "where amount_one._max_price_date < round((select sum(_max_price_date) from amount_one) / (select count(_max_price_date) from amount_one), 2)\n",
    "```\n"
   ]
  },
  {
   "cell_type": "markdown",
   "id": "0523cd1e",
   "metadata": {},
   "source": [
    "|   Название товара  |\n",
    "|--------------------|\n",
    "|    Холодильник     |\n",
    "|  Стиральная машина |\n",
    "|      Смартфон      |\n",
    "|       Планшет      |"
   ]
  },
  {
   "cell_type": "markdown",
   "id": "8c98dc83",
   "metadata": {
    "vscode": {
     "languageId": "sql"
    }
   },
   "source": [
    "### Задача №  3 Определить какая категория товаров наиболее популярна (по объему продаж) у партнеров со статусом Дистрибьютор."
   ]
  },
  {
   "cell_type": "markdown",
   "id": "1641e5e9",
   "metadata": {
    "vscode": {
     "languageId": "sql"
    }
   },
   "source": [
    "**Решение**\n",
    "\n",
    "```sql\n",
    "with temp as (\n",
    "    select \n",
    "        sum(Quantity) as _,\n",
    "            CategoryName\n",
    "    from dbo.Categories\n",
    "    join dbo.Products\n",
    "    on dbo.Categories.CategoryID = dbo.Products.CategoryID\n",
    "    join dbo.Orders\n",
    "    on dbo.Products.ProductID = dbo.Orders.ProductID\n",
    "    join dbo.Partners\n",
    "    on dbo.Orders.PartnerID = dbo.Partners.PartnerID\n",
    "    where dbo.Partners.Status = 'Дистрибьютор'\n",
    "    group by dbo.Categories.CategoryID)\n",
    "\n",
    "select\n",
    "    CategoryName as 'Название категории'\n",
    "from temp\n",
    "where _ = (select max(_) from temp)\n",
    "```"
   ]
  },
  {
   "cell_type": "markdown",
   "id": "bb293cd9",
   "metadata": {},
   "source": [
    "|  Название категории    |\n",
    "|------------------------|\n",
    "|  Мобильные устройства  |"
   ]
  },
  {
   "cell_type": "markdown",
   "id": "d7e7b64a",
   "metadata": {},
   "source": [
    "### Задача №  4 Найти партнеров с наибольшим объемом продаж в каждом месяце."
   ]
  },
  {
   "cell_type": "markdown",
   "id": "6a0fae50",
   "metadata": {},
   "source": [
    "**Решение**\n",
    "\n",
    "```sql\n",
    "with temp as (\n",
    "    select\n",
    "        DATE_FORMAT(OrderDate, '%Y-%m') AS Month_,\n",
    "        sum(Quantity) as quantity_,\n",
    "        dbo.Partners.PartnerName as name_\n",
    "    from dbo.Orders\n",
    "    join dbo.Partners\n",
    "    on dbo.Orders.PartnerID = dbo.Partners.PartnerID\n",
    "    group by dbo.Orders.OrderDate, dbo.Partners.PartnerName),\n",
    "    temp_2 as (\n",
    "        select\n",
    "            month_,\n",
    "            name_,\n",
    "            rank() over (partition by month_ order by quantity_ desc) as rank_\n",
    "        from temp\n",
    "    )\n",
    "\n",
    "select\n",
    "    month_ as 'Месяц покупки',\n",
    "    name_ as 'Имя партнера'\n",
    "from temp_2\n",
    "where rank_ = 1\n",
    "```"
   ]
  }
 ],
 "metadata": {
  "kernelspec": {
   "display_name": "Python 3",
   "language": "python",
   "name": "python3"
  },
  "language_info": {
   "codemirror_mode": {
    "name": "ipython",
    "version": 3
   },
   "file_extension": ".py",
   "mimetype": "text/x-python",
   "name": "python",
   "nbconvert_exporter": "python",
   "pygments_lexer": "ipython3",
   "version": "3.11.9"
  }
 },
 "nbformat": 4,
 "nbformat_minor": 5
}
