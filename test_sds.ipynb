{
 "cells": [
  {
   "cell_type": "markdown",
   "id": "4d3177e7",
   "metadata": {},
   "source": [
    "# ТЕСТОВОЕ ЗАДАНИЕ"
   ]
  },
  {
   "cell_type": "markdown",
   "id": "4c0d4abb",
   "metadata": {
    "vscode": {
     "languageId": "plaintext"
    }
   },
   "source": [
    "### Подготовка к выполнению задач № 1-5"
   ]
  },
  {
   "cell_type": "markdown",
   "id": "f5654bf7",
   "metadata": {},
   "source": [
    "#### Для локальной разработки (тестирования), развернем БД используя docker compose. Также для администрирования БД, развернем adminer. \n",
    "```dockerfile\n",
    "version: '3.7'\n",
    "\n",
    "services:\n",
    "\n",
    "  mysql:\n",
    "    container_name: mysql_container\n",
    "    image: mysql:8\n",
    "    restart: always\n",
    "        ports:\n",
    "      - \"3306:3306\"\n",
    "    environment:\n",
    "      MYSQL_ROOT_PASSWORD: mysql\n",
    "      MYSQL_DATABASE: mysql\n",
    "      MYSQL_USER: mysql\n",
    "      MYSQL_PASSWORD: mysql\n",
    "    volumes:\n",
    "      - ./dbdata:/var/lib/mysql/\n",
    "    networks:\n",
    "      - mysql_net\n",
    "\n",
    "  adminer:\n",
    "    container_name: adminer_container\n",
    "    image: adminer\n",
    "    depends_on:\n",
    "      - mysql\n",
    "    ports:\n",
    "      - \"10100:8080\"\n",
    "    networks:\n",
    "        - mysql_net\n",
    "\n",
    "networks:\n",
    "    mysql_net:\n",
    "        driver: bridge\n",
    "\n",
    "```\n",
    "\n",
    "#### Подключимся к mysql через adminer и создадим тестовую БД и заполним ее\n",
    "\n",
    "```sql\n",
    "create database if not exists dbo;\n",
    "\n",
    "--\n",
    "\n",
    "CREATE TABLE if not exists dbo.Categories (\n",
    "CategoryID int NOT NULL AUTO_INCREMENT,\n",
    "CategoryName nvarchar(255),\n",
    "CONSTRAINT PK_Categories PRIMARY KEY (CategoryID));\n",
    "\n",
    "--\n",
    "\n",
    "CREATE TABLE if not exists  dbo.Products (\n",
    "ProductID int NOT NULL AUTO_INCREMENT,\n",
    "ProductName nvarchar(255),\n",
    "CategoryID int,\n",
    "CONSTRAINT PK_Products PRIMARY KEY (ProductID),\n",
    "CONSTRAINT FK_Categories_On_Products FOREIGN KEY (CategoryID)\n",
    "REFERENCES dbo.Categories (CategoryID)\n",
    "ON DELETE NO ACTION ON UPDATE NO ACTION);\n",
    "\n",
    "--\n",
    "\n",
    "CREATE TABLE if not exists dbo.Partners(PartnerID int NOT NULL AUTO_INCREMENT, \n",
    "PartnerName nvarchar(255), Status nvarchar(50),\n",
    "CONSTRAINT PK_Partners PRIMARY KEY (PartnerID));\n",
    "\n",
    "--\n",
    "\n",
    "CREATE TABLE if not exists dbo.Orders (\n",
    "OrderID int NOT NULL AUTO_INCREMENT,\n",
    "OrderDate date,\n",
    "ProductID int,\n",
    "PartnerID int,\n",
    "Quantity int,\n",
    "Amount decimal(18,2),\n",
    "CONSTRAINT PK_Orders PRIMARY KEY (OrderID),\n",
    "CONSTRAINT FK_Products_On_Orders FOREIGN KEY (ProductID)\n",
    "REFERENCES dbo.Products (ProductID)\n",
    "ON DELETE NO ACTION ON UPDATE NO ACTION,\n",
    "CONSTRAINT FK_Partners_On_Orders FOREIGN KEY (PartnerID)\n",
    "REFERENCES dbo.Partners (PartnerID)\n",
    "ON DELETE NO ACTION ON UPDATE NO ACTION);\n",
    "\n",
    "--\n",
    "INSERT INTO dbo.Categories (CategoryName) VALUES\n",
    "('Бытовая техника'),\n",
    "('Мобильные устройства'),\n",
    "('Компьютеры');\n",
    "\n",
    "\n",
    "INSERT INTO dbo.Products (ProductName, CategoryID) VALUES\n",
    "('Холодильник', 1),\n",
    "('Стиральная машина', 1),\n",
    "('Смартфон', 2),\n",
    "('Планшет', 2),\n",
    "('Ноутбук', 3);\n",
    "\n",
    "\n",
    "INSERT INTO dbo.Partners (PartnerName, Status) VALUES\n",
    "('Партнер 1', 'Дистрибьютор'),\n",
    "('Партнер 2', 'Дилер'),\n",
    "('Партнер 3', 'Дилер');\n",
    "\n",
    "\n",
    "INSERT INTO dbo.Orders (OrderDate, ProductID, PartnerID, Quantity, Amount) VALUES\n",
    "('2023-01-10', 1, 1, 3, 60000.00),\n",
    "('2023-01-15', 2, 2, 2, 36000.00),\n",
    "('2023-02-05', 3, 3, 5, 40000.00),\n",
    "('2023-02-10', 4, 1, 1, 22000.00),\n",
    "('2023-03-12', 5, 2, 4, 200000.00),\n",
    "('2023-03-20', 1, 3, 1, 20000.00),\n",
    "('2023-04-01', 2, 1, 3, 54000.00),\n",
    "('2023-04-15', 3, 2, 7, 56000.00),\n",
    "('2023-05-05', 4, 3, 2, 44000.00),\n",
    "('2023-05-10', 5, 1, 3, 150000.00),\n",
    "('2023-06-12', 1, 2, 2, 40000.00),\n",
    "('2023-06-25', 2, 3, 4, 72000.00),\n",
    "('2023-07-05', 3, 1, 6, 48000.00),\n",
    "('2023-07-15', 4, 2, 3, 66000.00),\n",
    "('2023-08-01', 5, 3, 5, 250000.00);\n",
    "```"
   ]
  },
  {
   "cell_type": "markdown",
   "id": "dc840862",
   "metadata": {
    "vscode": {
     "languageId": "plaintext"
    }
   },
   "source": [
    "## SQL"
   ]
  },
  {
   "cell_type": "markdown",
   "id": "3bf6c4a3",
   "metadata": {},
   "source": [
    "**Пояснение, в данном разделе я выполнял задание используя Adminer, код представлен в формате markdown**"
   ]
  },
  {
   "cell_type": "markdown",
   "id": "71082533",
   "metadata": {},
   "source": [
    "### Задача №  1 Напишите запрос для вычисления средней цены реализации за единицу в разрезе категорий в первом полугодии 2023 года."
   ]
  },
  {
   "cell_type": "markdown",
   "id": "8208654c",
   "metadata": {
    "vscode": {
     "languageId": "sql"
    }
   },
   "source": [
    "**Решение**\n",
    "\n",
    "```sql\n",
    "select\n",
    "    dbo.Categories.CategoryName as 'Название категории',\n",
    "    temp._mean as 'Средняя цена'\n",
    "    from (select \n",
    "            dbo.Products.CategoryID,\n",
    "            ROUND(sum(dbo.Orders.Amount) / sum(dbo.Orders.Quantity), 2) as _mean\n",
    "        from dbo.Orders\n",
    "        left join dbo.Products \n",
    "        on dbo.Orders.ProductID = dbo.Products.ProductID\n",
    "        where MONTH(dbo.Orders.OrderDate) < 7 and YEAR(dbo.Orders.OrderDate) = 2023\n",
    "        group by dbo.Products.CategoryID) as temp \n",
    "    left join dbo.Categories\n",
    "    on dbo.Categories.CategoryID = temp.CategoryID\n",
    "```"
   ]
  },
  {
   "cell_type": "markdown",
   "id": "1d522495",
   "metadata": {},
   "source": [
    "**Ответ**\n",
    "|      Название категории  |    Средняя цена   |\n",
    "|--------------------------|-------------------|\n",
    "|       Бытовая техника\t   |      18800.00     |\n",
    "|    Мобильные устройства  |      10800.00     |\n",
    "|         Компьютеры\t   |      50000.00     |"
   ]
  },
  {
   "cell_type": "markdown",
   "id": "7e6dd76e",
   "metadata": {
    "vscode": {
     "languageId": "sql"
    }
   },
   "source": [
    "### Задача №  2 Вывести товары, для которых цена реализации за весь период продаж ниже средней цены по всем товарам. Используйте WITH конструкцию."
   ]
  },
  {
   "cell_type": "markdown",
   "id": "6df04701",
   "metadata": {
    "vscode": {
     "languageId": "sql"
    }
   },
   "source": [
    "**Решение**\n",
    "\n",
    "```sql\n",
    "with amount_one as (\n",
    "    select \n",
    "        _max_price_date,\n",
    "        ProductName\n",
    "    from \n",
    "        (select round(max(_max_price_date),2) as _max_price_date, ProductID\n",
    "        from \n",
    "            (select max(dbo.Orders.Amount / dbo.Orders.Quantity) as _max_price_date,\n",
    "                    dbo.Orders.ProductID as ProductID\n",
    "                from dbo.Orders\n",
    "                group by dbo.Orders.ProductID, dbo.Orders.OrderDate) as temp\n",
    "        group by ProductID) as temp_2\n",
    "    left join dbo.Products \n",
    "    on temp_2.ProductID = dbo.Products.ProductID )\n",
    "\n",
    "select\n",
    "    ProductName as 'Название товара'\n",
    "from amount_one \n",
    "where amount_one._max_price_date < round((select sum(_max_price_date) from amount_one) / (select count(_max_price_date) from amount_one), 2)\n",
    "```\n"
   ]
  },
  {
   "cell_type": "markdown",
   "id": "0523cd1e",
   "metadata": {},
   "source": [
    "|   Название товара  |\n",
    "|--------------------|\n",
    "|    Холодильник     |\n",
    "|  Стиральная машина |\n",
    "|      Смартфон      |\n",
    "|       Планшет      |"
   ]
  },
  {
   "cell_type": "markdown",
   "id": "8c98dc83",
   "metadata": {
    "vscode": {
     "languageId": "sql"
    }
   },
   "source": [
    "### Задача №  3 Определить какая категория товаров наиболее популярна (по объему продаж) у партнеров со статусом Дистрибьютор."
   ]
  },
  {
   "cell_type": "markdown",
   "id": "1641e5e9",
   "metadata": {
    "vscode": {
     "languageId": "sql"
    }
   },
   "source": [
    "**Решение**\n",
    "\n",
    "```sql\n",
    "with temp as (\n",
    "    select \n",
    "        sum(Quantity) as _,\n",
    "            CategoryName\n",
    "    from dbo.Categories\n",
    "    join dbo.Products\n",
    "    on dbo.Categories.CategoryID = dbo.Products.CategoryID\n",
    "    join dbo.Orders\n",
    "    on dbo.Products.ProductID = dbo.Orders.ProductID\n",
    "    join dbo.Partners\n",
    "    on dbo.Orders.PartnerID = dbo.Partners.PartnerID\n",
    "    where dbo.Partners.Status = 'Дистрибьютор'\n",
    "    group by dbo.Categories.CategoryID)\n",
    "\n",
    "select\n",
    "    CategoryName as 'Название категории'\n",
    "from temp\n",
    "where _ = (select max(_) from temp)\n",
    "```"
   ]
  },
  {
   "cell_type": "markdown",
   "id": "bb293cd9",
   "metadata": {},
   "source": [
    "|  Название категории    |\n",
    "|------------------------|\n",
    "|  Мобильные устройства  |"
   ]
  },
  {
   "cell_type": "markdown",
   "id": "d7e7b64a",
   "metadata": {},
   "source": [
    "### Задача №  4 Найти партнеров с наибольшим объемом продаж в каждом месяце."
   ]
  },
  {
   "cell_type": "markdown",
   "id": "6a0fae50",
   "metadata": {},
   "source": [
    "**Решение**\n",
    "\n",
    "```sql\n",
    "with temp as (\n",
    "    select\n",
    "        DATE_FORMAT(OrderDate, '%Y-%m') AS Month_,\n",
    "        sum(Quantity) as quantity_,\n",
    "        dbo.Partners.PartnerName as name_\n",
    "    from dbo.Orders\n",
    "    join dbo.Partners\n",
    "    on dbo.Orders.PartnerID = dbo.Partners.PartnerID\n",
    "    group by dbo.Orders.OrderDate, dbo.Partners.PartnerName),\n",
    "    temp_2 as (\n",
    "        select\n",
    "            month_,\n",
    "            name_,\n",
    "            rank() over (partition by month_ order by quantity_ desc) as rank_\n",
    "        from temp\n",
    "    )\n",
    "\n",
    "select\n",
    "    month_ as 'Месяц покупки',\n",
    "    name_ as 'Имя партнера'\n",
    "from temp_2\n",
    "where rank_ = 1\n",
    "```"
   ]
  },
  {
   "cell_type": "markdown",
   "id": "c74daf75",
   "metadata": {},
   "source": [
    "| Месяц покупки | Имя партнера |\n",
    "|---------------|--------------|\n",
    "| 2023-01       | Партнер 1    |\n",
    "| 2023-02       | Партнер 3    |\n",
    "| 2023-03       | Партнер 2    |\n",
    "| 2023-04       | Партнер 2    |\n",
    "| 2023-05       | Партнер 1    |\n",
    "| 2023-06       | Партнер 3    |\n",
    "| 2023-07       | Партнер 1    |\n",
    "| 2023-08       | Партнер 3    |"
   ]
  },
  {
   "cell_type": "markdown",
   "id": "359e60dd",
   "metadata": {},
   "source": [
    "### Задача №  5 Дана следующая таблица с данными:\n",
    "```sql\n",
    "CREATE TABLE dbo.Table_1(ID int);\n",
    "\n",
    "INSERT INTO dbo.Table_1 VALUES\n",
    "(1), (2), (3), (7), (8), (9), (11), (12), (14), (15);\n",
    "```\n",
    "Наиболее лаконичным кодом (без курсоров и т.п.) необходимо написать скрипт, который бы показывал начало и окончание последовательности.\n",
    "\n",
    "| FirstID | LastID |\n",
    "|---------|--------|\n",
    "| 1       | 3      |\n",
    "| 7       | 9      |\n",
    "| 11      | 12     |\n",
    "| 14      | 15     |\n"
   ]
  },
  {
   "cell_type": "markdown",
   "id": "c3dcc067",
   "metadata": {},
   "source": []
  },
  {
   "cell_type": "markdown",
   "id": "f95e7986",
   "metadata": {},
   "source": []
  },
  {
   "cell_type": "markdown",
   "id": "e128df07",
   "metadata": {},
   "source": [
    "## Python"
   ]
  },
  {
   "cell_type": "markdown",
   "id": "a5efd884",
   "metadata": {},
   "source": [
    "### Задача Решите задачу №4 из блока SQL используя библиотеку Pandas. Создайте и заполните данными Pandas Dataframe вручную или импортируйте таблицу через подключение к вашей БД на локальном диске."
   ]
  },
  {
   "cell_type": "code",
   "execution_count": 6,
   "id": "c8619768",
   "metadata": {},
   "outputs": [],
   "source": [
    "import pandas as pd\n",
    "import sqlalchemy as sa\n",
    "from sqlalchemy import create_engine, text, URL\n",
    "\n",
    "# Определяем параметры подключения к базе данных\n",
    "connection_params = {\n",
    "    \"drivername\": \"mysql+pymysql\",\n",
    "    \"host\": \"localhost\",\n",
    "    \"port\": 3306,\n",
    "    \"database\": \"dbo\",\n",
    "    \"username\": \"root\",\n",
    "    \"password\": \"mysql\",\n",
    "}"
   ]
  },
  {
   "cell_type": "code",
   "execution_count": 7,
   "id": "b787c82b",
   "metadata": {},
   "outputs": [],
   "source": [
    "# Создаем строку подключения\n",
    "url_ = URL.create(\n",
    "    drivername=connection_params[\"drivername\"],\n",
    "    host=connection_params[\"host\"],\n",
    "    port=connection_params[\"port\"],\n",
    "    database=connection_params[\"database\"],\n",
    "    username=connection_params[\"username\"],\n",
    "    password=connection_params[\"password\"],\n",
    ")"
   ]
  },
  {
   "cell_type": "code",
   "execution_count": 8,
   "id": "b4aecb8d",
   "metadata": {},
   "outputs": [],
   "source": [
    "# Создаем движок для подключения к базе данных\n",
    "engine = create_engine(url_)"
   ]
  },
  {
   "cell_type": "code",
   "execution_count": 41,
   "id": "60a386d7",
   "metadata": {},
   "outputs": [],
   "source": [
    "# Определяем запрос \n",
    "query = text(\"select \" \\\n",
    "\"OrderDate, \" \\\n",
    "\"Quantity, \" \\\n",
    "\"dbo.Partners.PartnerName \" \\\n",
    "\"from dbo.Orders \" \\\n",
    "\"join dbo.Partners \" \\\n",
    "\"on dbo.Orders.PartnerID = dbo.Partners.PartnerID;\")"
   ]
  },
  {
   "cell_type": "code",
   "execution_count": 94,
   "id": "5757e9d6",
   "metadata": {},
   "outputs": [
    {
     "name": "stdout",
     "output_type": "stream",
     "text": [
      "    OrderDate  Quantity PartnerName\n",
      "0  2023-01-10         3   Партнер 1\n",
      "1  2023-02-10         1   Партнер 1\n",
      "2  2023-04-01         3   Партнер 1\n",
      "3  2023-05-10         3   Партнер 1\n",
      "4  2023-07-05         6   Партнер 1\n"
     ]
    }
   ],
   "source": [
    "# Через контекстный менеджер создаем соединение с базой данных\n",
    "df = pd.DataFrame()\n",
    "with engine.connect() as connection:\n",
    "    # Выполняем SQL-запрос и получаем результат в виде DataFrame\n",
    "    df = pd.read_sql(query, connection)\n",
    "    print(df.head())  # Выводим первые 5 строк DataFrame"
   ]
  },
  {
   "cell_type": "code",
   "execution_count": 124,
   "id": "42d89117",
   "metadata": {},
   "outputs": [],
   "source": [
    "for_work = df.copy()"
   ]
  },
  {
   "cell_type": "code",
   "execution_count": 125,
   "id": "ec9d8d32",
   "metadata": {},
   "outputs": [],
   "source": [
    "# Преобразуем формат даты в нужный вид\n",
    "for_work['OrderDate'] = pd.to_datetime(for_work['OrderDate'], format='%Y-%m').dt.strftime('%Y-%m')\n",
    "\n",
    "# 1. Группируем данные по дате и имени партнера\n",
    "# 2. Применяем аггрегационную функцию sum к количеству\n",
    "#       для получения суммарного количества проданных товаров у партнера\n",
    "# 3. Группируем данные по дате и применяем аггрегационную функцию max \n",
    "# к количеству для получения максимального значения в группе месяц\n",
    "for_work = for_work.groupby(['OrderDate', 'PartnerName']) \\\n",
    "    .agg({'Quantity': 'sum'})\n",
    "\n",
    "# Добавляем дополнительный столбец с максимальным значением количества товаров в группе\n",
    "for_work['MaxInGroup'] = for_work.groupby(['OrderDate'])['Quantity'].transform('max')\n",
    "\n",
    "# Отбираем только те строки, где количество равно максимальному значению в группе\n",
    "# и сбрасываем индексы\n",
    "for_work = for_work.loc[for_work['Quantity'] == for_work['MaxInGroup']] \\\n",
    "    .reset_index()[['OrderDate', 'PartnerName']]"
   ]
  },
  {
   "cell_type": "code",
   "execution_count": null,
   "id": "653c3f7a",
   "metadata": {},
   "outputs": [
    {
     "data": {
      "text/html": [
       "<div>\n",
       "<style scoped>\n",
       "    .dataframe tbody tr th:only-of-type {\n",
       "        vertical-align: middle;\n",
       "    }\n",
       "\n",
       "    .dataframe tbody tr th {\n",
       "        vertical-align: top;\n",
       "    }\n",
       "\n",
       "    .dataframe thead th {\n",
       "        text-align: right;\n",
       "    }\n",
       "</style>\n",
       "<table border=\"1\" class=\"dataframe\">\n",
       "  <thead>\n",
       "    <tr style=\"text-align: right;\">\n",
       "      <th></th>\n",
       "      <th>OrderDate</th>\n",
       "      <th>PartnerName</th>\n",
       "    </tr>\n",
       "  </thead>\n",
       "  <tbody>\n",
       "    <tr>\n",
       "      <th>0</th>\n",
       "      <td>2023-01</td>\n",
       "      <td>Партнер 1</td>\n",
       "    </tr>\n",
       "    <tr>\n",
       "      <th>1</th>\n",
       "      <td>2023-02</td>\n",
       "      <td>Партнер 3</td>\n",
       "    </tr>\n",
       "    <tr>\n",
       "      <th>2</th>\n",
       "      <td>2023-03</td>\n",
       "      <td>Партнер 2</td>\n",
       "    </tr>\n",
       "    <tr>\n",
       "      <th>3</th>\n",
       "      <td>2023-04</td>\n",
       "      <td>Партнер 2</td>\n",
       "    </tr>\n",
       "    <tr>\n",
       "      <th>4</th>\n",
       "      <td>2023-05</td>\n",
       "      <td>Партнер 1</td>\n",
       "    </tr>\n",
       "    <tr>\n",
       "      <th>5</th>\n",
       "      <td>2023-06</td>\n",
       "      <td>Партнер 3</td>\n",
       "    </tr>\n",
       "    <tr>\n",
       "      <th>6</th>\n",
       "      <td>2023-07</td>\n",
       "      <td>Партнер 1</td>\n",
       "    </tr>\n",
       "    <tr>\n",
       "      <th>7</th>\n",
       "      <td>2023-08</td>\n",
       "      <td>Партнер 3</td>\n",
       "    </tr>\n",
       "  </tbody>\n",
       "</table>\n",
       "</div>"
      ],
      "text/plain": [
       "  OrderDate PartnerName\n",
       "0   2023-01   Партнер 1\n",
       "1   2023-02   Партнер 3\n",
       "2   2023-03   Партнер 2\n",
       "3   2023-04   Партнер 2\n",
       "4   2023-05   Партнер 1\n",
       "5   2023-06   Партнер 3\n",
       "6   2023-07   Партнер 1\n",
       "7   2023-08   Партнер 3"
      ]
     },
     "execution_count": 126,
     "metadata": {},
     "output_type": "execute_result"
    },
    {
     "ename": "",
     "evalue": "",
     "output_type": "error",
     "traceback": [
      "\u001b[1;31mПри выполнении кода в текущей ячейке или предыдущей ячейке ядро аварийно завершило работу. \n",
      "\u001b[1;31mПроверьте код в ячейках, чтобы определить возможную причину сбоя. \n",
      "\u001b[1;31mЩелкните <a href='https://aka.ms/vscodeJupyterKernelCrash'>здесь</a>, чтобы получить дополнительные сведения. \n",
      "\u001b[1;31mПодробнее см. в <a href='command:jupyter.viewOutput'>журнале Jupyter</a>."
     ]
    }
   ],
   "source": [
    "for_work"
   ]
  },
  {
   "cell_type": "markdown",
   "id": "6203e1ba",
   "metadata": {},
   "source": [
    "| OrderDate | PartnerName |\n",
    "|-----------|-------------|\n",
    "| 2023-01   | Партнер 1   |\n",
    "| 2023-02   | Партнер 3   |\n",
    "| 2023-03   | Партнер 2   |\n",
    "| 2023-04   | Партнер 2   |\n",
    "| 2023-05   | Партнер 1   |\n",
    "| 2023-06   | Партнер 3   |\n",
    "| 2023-07   | Партнер 1   |\n",
    "| 2023-08   | Партнер 3   |"
   ]
  },
  {
   "cell_type": "markdown",
   "id": "5d0ba55e",
   "metadata": {},
   "source": [
    "## Power BI"
   ]
  },
  {
   "cell_type": "markdown",
   "id": "e92605ca",
   "metadata": {},
   "source": [
    "### Задача № 1 Добавьте визуальный элемент с отслеживанием отношения факта к предыдущему месяцу.\n"
   ]
  },
  {
   "cell_type": "markdown",
   "id": "bfae2a5c",
   "metadata": {},
   "source": [
    "Для решения данной задачи, был выбран элемент визуализации типа \"Диаграмма с областями\". \n",
    "Необходимо было вычислить агрегированное значение по столбцу fact_qty:\n",
    "```\n",
    "CurrentMonthQty = SUM('fact'[fact_qty])\n",
    "``` \n",
    "Мы получаем автоматический расчет агрегированных значений с добавлением новых элементов в таблицу.\n",
    "После чего, сдвигаем значения на один месяц назад используя следующую меру:\n",
    "``` \n",
    "PreviousMonthQty = \n",
    "COALESCE(\n",
    "    CALCULATE(\n",
    "        SUM('fact'[fact_qty]),\n",
    "        PREVIOUSMONTH('fact'[month_id])), 0)\n",
    "```\n",
    "После добавления на элемент визуализации, можем наблюдать следующее:   \n",
    "\n",
    "\n",
    "<img src=\"./image/pbi_task_1.png\" alt=\"task_1\" width=\"500\" height=\"300\">\n"
   ]
  },
  {
   "cell_type": "markdown",
   "id": "4a569e4d",
   "metadata": {},
   "source": [
    "### Задача №2 Добавьте визуальный элемент с отслеживанием факта к плану, как по суммарному плану, так и по Main\n"
   ]
  },
  {
   "cell_type": "markdown",
   "id": "9058c3c3",
   "metadata": {},
   "source": []
  },
  {
   "cell_type": "markdown",
   "id": "a47ecb38",
   "metadata": {},
   "source": [
    "### Задача №3 Для последнего месяца (02-2021), отсутствует Факт, предусмотреть поле ввода, для указания \"прогнозного факта за месяц\", для расчёта прогнозного % выполнения плана.\n"
   ]
  },
  {
   "cell_type": "markdown",
   "id": "5cdaa072",
   "metadata": {},
   "source": []
  },
  {
   "cell_type": "markdown",
   "id": "1f04ddc8",
   "metadata": {},
   "source": [
    "### Задача №4 Добавьте визуальный элемент с динамикой продаж по точкам (pos) и товарам(item).\n"
   ]
  },
  {
   "cell_type": "markdown",
   "id": "fcb8b87b",
   "metadata": {},
   "source": []
  },
  {
   "cell_type": "markdown",
   "id": "790926b2",
   "metadata": {},
   "source": [
    "### Задача №5* Необходимо реализовать видимость отдельного (произвольного) визуального элемента / страницы с произвольными визуальными элементами для ограниченного списка пользователей – sds\\user1, sds \\user3. Для пользователей c другими USERNAME() данные должны быть невидимы.\n"
   ]
  },
  {
   "cell_type": "markdown",
   "id": "0e31fd18",
   "metadata": {},
   "source": []
  }
 ],
 "metadata": {
  "kernelspec": {
   "display_name": ".venv",
   "language": "python",
   "name": "python3"
  },
  "language_info": {
   "codemirror_mode": {
    "name": "ipython",
    "version": 3
   },
   "file_extension": ".py",
   "mimetype": "text/x-python",
   "name": "python",
   "nbconvert_exporter": "python",
   "pygments_lexer": "ipython3",
   "version": "3.12.8"
  }
 },
 "nbformat": 4,
 "nbformat_minor": 5
}
